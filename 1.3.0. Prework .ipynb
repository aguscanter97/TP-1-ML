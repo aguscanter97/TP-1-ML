{
 "cells": [
  {
   "cell_type": "markdown",
   "id": "643f4bd3",
   "metadata": {},
   "source": [
    "### Prework\n",
    "\n",
    "Realizamos la limpieza y adaptación de las variables."
   ]
  },
  {
   "cell_type": "code",
   "execution_count": 1,
   "id": "1b833a1d",
   "metadata": {},
   "outputs": [],
   "source": [
    "import pandas as pd\n",
    "\n",
    "train_df = pd.read_csv(\"application_train.csv\")\n",
    "\n",
    "\n",
    "# Detectar columnas con solo \"y\"/\"n\" y mapear a 1/0\n",
    "bool_cols = [c for c in train_df.columns if set(train_df[c].dropna().unique()) <= {\"y\", \"n\"}]\n",
    "if bool_cols:\n",
    "    train_df[bool_cols] = train_df[bool_cols].apply(lambda s: s.map({\"y\": 1, \"n\": 0}).astype(\"int8\"))"
   ]
  }
 ],
 "metadata": {
  "kernelspec": {
   "display_name": "Python 3",
   "language": "python",
   "name": "python3"
  },
  "language_info": {
   "codemirror_mode": {
    "name": "ipython",
    "version": 3
   },
   "file_extension": ".py",
   "mimetype": "text/x-python",
   "name": "python",
   "nbconvert_exporter": "python",
   "pygments_lexer": "ipython3",
   "version": "3.12.2"
  }
 },
 "nbformat": 4,
 "nbformat_minor": 5
}

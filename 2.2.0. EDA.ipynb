{
 "cells": [
  {
   "cell_type": "markdown",
   "id": "eeaccd58",
   "metadata": {},
   "source": [
    "### EDA Profiling - Parte 2"
   ]
  },
  {
   "cell_type": "code",
   "execution_count": 1,
   "id": "4471bb15",
   "metadata": {},
   "outputs": [],
   "source": [
    "## Usamos el mismo dataset de la parte 1 para hacer EDA profiling (no hay modificaciones en los datos)\n",
    "\n",
    "import pandas as pd\n",
    "\n",
    "train_df = pd.read_csv(\"Parte 2/entrenamiento.csv\")"
   ]
  },
  {
   "cell_type": "markdown",
   "id": "016560f1",
   "metadata": {},
   "source": [
    "Genero un mapa para visualizar los datos"
   ]
  },
  {
   "cell_type": "code",
   "execution_count": 4,
   "id": "7f679596",
   "metadata": {},
   "outputs": [
    {
     "name": "stdout",
     "output_type": "stream",
     "text": [
      "OK → mapa_propiedades_sin_cluster.html\n"
     ]
    }
   ],
   "source": [
    "import pandas as pd\n",
    "import numpy as np\n",
    "import folium\n",
    "\n",
    "# ========= 0) Helpers\n",
    "def to_float(s):\n",
    "    # Convierte \"−34,6037\" -> -34.6037 y maneja strings\n",
    "    if pd.isna(s):\n",
    "        return np.nan\n",
    "    if isinstance(s, (int, float, np.number)):\n",
    "        return float(s)\n",
    "    s = str(s).strip().replace(\",\", \".\")\n",
    "    try:\n",
    "        return float(s)\n",
    "    except:\n",
    "        return np.nan\n",
    "\n",
    "# Bounding box aproximado de Argentina\n",
    "LAT_MIN, LAT_MAX = -56.0, -21.0\n",
    "LON_MIN, LON_MAX = -75.0, -53.0\n",
    "\n",
    "def in_argentina(lat, lon):\n",
    "    return (LAT_MIN <= lat <= LAT_MAX) and (LON_MIN <= lon <= LON_MAX)\n",
    "\n",
    "# ========= 1) Limpieza de lat/lon\n",
    "train_df[\"lat\"] = train_df[\"lat\"].apply(to_float)\n",
    "train_df[\"lon\"] = train_df[\"lon\"].apply(to_float)\n",
    "\n",
    "# elimina NaN\n",
    "geo = train_df.dropna(subset=[\"lat\", \"lon\"]).copy()\n",
    "\n",
    "# ========= 2) Corregir lat/lon invertidas fila a fila\n",
    "# Si (lat, lon) NO cae en AR pero (lon, lat) SÍ cae, entonces invertir\n",
    "mask_swap = (~geo.apply(lambda r: in_argentina(r[\"lat\"], r[\"lon\"]), axis=1)) & \\\n",
    "            ( geo.apply(lambda r: in_argentina(r[\"lon\"], r[\"lat\"]), axis=1))\n",
    "\n",
    "geo.loc[mask_swap, [\"lat\", \"lon\"]] = geo.loc[mask_swap, [\"lon\", \"lat\"]].values\n",
    "\n",
    "# ========= 3) Filtrar por bounding box de Argentina (quita outliers)\n",
    "geo = geo[geo.apply(lambda r: in_argentina(r[\"lat\"], r[\"lon\"]), axis=1)].copy()\n",
    "\n",
    "# ========= 4) Muestreo de 10.000 puntos (sin clúster)\n",
    "if len(geo) > 10_000:\n",
    "    geo = geo.sample(n=10_000, random_state=42)\n",
    "\n",
    "# Nombre para tooltip si no existe\n",
    "if \"localidad\" not in geo.columns:\n",
    "    # Probamos usar l2/l3 como etiqueta si existen; si no, el índice\n",
    "    if \"l3\" in geo.columns:\n",
    "        geo[\"localidad\"] = geo[\"l3\"].fillna(geo.get(\"l2\", \"\")).fillna(\"\").replace(\"\", np.nan)\n",
    "    elif \"l2\" in geo.columns:\n",
    "        geo[\"localidad\"] = geo[\"l2\"]\n",
    "    else:\n",
    "        geo[\"localidad\"] = \"prop_\" + geo.index.astype(str)\n",
    "\n",
    "    geo[\"localidad\"] = geo[\"localidad\"].fillna(\"prop_\" + geo.index.astype(str))\n",
    "\n",
    "# ========= 5) Crear mapa y dibujar puntos (uno a uno, SIN agrupamiento)\n",
    "center = [geo[\"lat\"].mean(), geo[\"lon\"].mean()]\n",
    "m = folium.Map(location=center, zoom_start=5, tiles=\"CartoDB positron\")\n",
    "\n",
    "for _, r in geo.iterrows():\n",
    "    tooltip = str(r[\"localidad\"])\n",
    "    popup = folium.Popup(\n",
    "        f\"<b>{tooltip}</b><br>Lat: {r['lat']:.6f}<br>Lon: {r['lon']:.6f}\",\n",
    "        max_width=260\n",
    "    )\n",
    "    folium.CircleMarker(\n",
    "        location=[r[\"lat\"], r[\"lon\"]],  # OJO: folium espera [lat, lon]\n",
    "        radius=3,\n",
    "        fill=True,\n",
    "        fill_opacity=0.8,\n",
    "        weight=0.5,\n",
    "        popup=popup,\n",
    "        tooltip=tooltip\n",
    "    ).add_to(m)\n",
    "\n",
    "m.save(\"mapa_propiedades_sin_cluster.html\")\n",
    "print(\"OK → mapa_propiedades_sin_cluster.html\")"
   ]
  }
 ],
 "metadata": {
  "kernelspec": {
   "display_name": "base",
   "language": "python",
   "name": "python3"
  },
  "language_info": {
   "codemirror_mode": {
    "name": "ipython",
    "version": 3
   },
   "file_extension": ".py",
   "mimetype": "text/x-python",
   "name": "python",
   "nbconvert_exporter": "python",
   "pygments_lexer": "ipython3",
   "version": "3.12.7"
  }
 },
 "nbformat": 4,
 "nbformat_minor": 5
}

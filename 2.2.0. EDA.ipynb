{
 "cells": [
  {
   "cell_type": "markdown",
   "id": "eeaccd58",
   "metadata": {},
   "source": [
    "### EDA Profiling - Parte 2"
   ]
  },
  {
   "cell_type": "code",
   "id": "4471bb15",
   "metadata": {
    "ExecuteTime": {
     "end_time": "2025-09-28T20:06:50.896621Z",
     "start_time": "2025-09-28T20:06:50.719013Z"
    }
   },
   "source": [
    "## Usamos el mismo dataset de la parte 1 para hacer EDA profiling (no hay modificaciones en los datos)\n",
    "\n",
    "import pandas as pd\n",
    "\n",
    "train_df = pd.read_csv(\"/Users/luanagiusto/TP-1-ML/entrenamiento.csv\")"
   ],
   "outputs": [
    {
     "ename": "ModuleNotFoundError",
     "evalue": "No module named 'pandas'",
     "output_type": "error",
     "traceback": [
      "\u001B[31m---------------------------------------------------------------------------\u001B[39m",
      "\u001B[31mModuleNotFoundError\u001B[39m                       Traceback (most recent call last)",
      "\u001B[36mCell\u001B[39m\u001B[36m \u001B[39m\u001B[32mIn[2]\u001B[39m\u001B[32m, line 3\u001B[39m\n\u001B[32m      1\u001B[39m \u001B[38;5;66;03m## Usamos el mismo dataset de la parte 1 para hacer EDA profiling (no hay modificaciones en los datos)\u001B[39;00m\n\u001B[32m----> \u001B[39m\u001B[32m3\u001B[39m \u001B[38;5;28;01mimport\u001B[39;00m\u001B[38;5;250m \u001B[39m\u001B[34;01mpandas\u001B[39;00m\u001B[38;5;250m \u001B[39m\u001B[38;5;28;01mas\u001B[39;00m\u001B[38;5;250m \u001B[39m\u001B[34;01mpd\u001B[39;00m\n\u001B[32m      5\u001B[39m train_df = pd.read_csv(\u001B[33m\"\u001B[39m\u001B[33m/Users/luanagiusto/TP-1-ML/entrenamiento.csv\u001B[39m\u001B[33m\"\u001B[39m)\n",
      "\u001B[31mModuleNotFoundError\u001B[39m: No module named 'pandas'"
     ]
    }
   ],
   "execution_count": 2
  },
  {
   "cell_type": "markdown",
   "id": "016560f1",
   "metadata": {},
   "source": [
    "Genero un mapa para visualizar los datos"
   ]
  },
  {
   "metadata": {
    "ExecuteTime": {
     "end_time": "2025-09-28T20:06:52.731589Z",
     "start_time": "2025-09-28T19:55:08.403608Z"
    }
   },
   "cell_type": "code",
   "source": [
    "import pandas as pd\n",
    "import numpy as np\n",
    "import folium\n",
    "\n",
    "# ========= 0) Helpers\n",
    "def to_float(s):\n",
    "    # Convierte \"−34,6037\" -> -34.6037 y maneja strings\n",
    "    if pd.isna(s):\n",
    "        return np.nan\n",
    "    if isinstance(s, (int, float, np.number)):\n",
    "        return float(s)\n",
    "    s = str(s).strip().replace(\",\", \".\")\n",
    "    try:\n",
    "        return float(s)\n",
    "    except:\n",
    "        return np.nan\n",
    "\n",
    "# Bounding box aproximado de Argentina\n",
    "LAT_MIN, LAT_MAX = -56.0, -21.0\n",
    "LON_MIN, LON_MAX = -75.0, -53.0\n",
    "\n",
    "def in_argentina(lat, lon):\n",
    "    return (LAT_MIN <= lat <= LAT_MAX) and (LON_MIN <= lon <= LON_MAX)\n",
    "\n",
    "# ========= 1) Limpieza de lat/lon\n",
    "train_df[\"lat\"] = train_df[\"lat\"].apply(to_float)\n",
    "train_df[\"lon\"] = train_df[\"lon\"].apply(to_float)\n",
    "\n",
    "# elimina NaN\n",
    "geo = train_df.dropna(subset=[\"lat\", \"lon\"]).copy()\n",
    "\n",
    "# ========= 2) Corregir lat/lon invertidas fila a fila\n",
    "# Si (lat, lon) NO cae en AR pero (lon, lat) SÍ cae, entonces invertir\n",
    "mask_swap = (~geo.apply(lambda r: in_argentina(r[\"lat\"], r[\"lon\"]), axis=1)) & \\\n",
    "            ( geo.apply(lambda r: in_argentina(r[\"lon\"], r[\"lat\"]), axis=1))\n",
    "\n",
    "geo.loc[mask_swap, [\"lat\", \"lon\"]] = geo.loc[mask_swap, [\"lon\", \"lat\"]].values\n",
    "\n",
    "# ========= 3) Filtrar por bounding box de Argentina (quita outliers)\n",
    "geo = geo[geo.apply(lambda r: in_argentina(r[\"lat\"], r[\"lon\"]), axis=1)].copy()\n",
    "\n",
    "# ========= 4) Muestreo de 10.000 puntos (sin clúster)\n",
    "if len(geo) > 10_000:\n",
    "    geo = geo.sample(n=10_000, random_state=42)\n",
    "\n",
    "# Nombre para tooltip si no existe\n",
    "if \"localidad\" not in geo.columns:\n",
    "    # Probamos usar l2/l3 como etiqueta si existen; si no, el índice\n",
    "    if \"l3\" in geo.columns:\n",
    "        geo[\"localidad\"] = geo[\"l3\"].fillna(geo.get(\"l2\", \"\")).fillna(\"\").replace(\"\", np.nan)\n",
    "    elif \"l2\" in geo.columns:\n",
    "        geo[\"localidad\"] = geo[\"l2\"]\n",
    "    else:\n",
    "        geo[\"localidad\"] = \"prop_\" + geo.index.astype(str)\n",
    "\n",
    "    geo[\"localidad\"] = geo[\"localidad\"].fillna(\"prop_\" + geo.index.astype(str))\n",
    "\n",
    "# ========= 5) Crear mapa y dibujar puntos (uno a uno, SIN agrupamiento)\n",
    "center = [geo[\"lat\"].mean(), geo[\"lon\"].mean()]\n",
    "m = folium.Map(location=center, zoom_start=5, tiles=\"CartoDB positron\")\n",
    "\n",
    "for _, r in geo.iterrows():\n",
    "    tooltip = str(r[\"localidad\"])\n",
    "    popup = folium.Popup(\n",
    "        f\"<b>{tooltip}</b><br>Lat: {r['lat']:.6f}<br>Lon: {r['lon']:.6f}\",\n",
    "        max_width=260\n",
    "    )\n",
    "    folium.CircleMarker(\n",
    "        location=[r[\"lat\"], r[\"lon\"]],  # OJO: folium espera [lat, lon]\n",
    "        radius=3,\n",
    "        fill=True,\n",
    "        fill_opacity=0.8,\n",
    "        weight=0.5,\n",
    "        popup=popup,\n",
    "        tooltip=tooltip\n",
    "    ).add_to(m)\n",
    "\n",
    "m.save(\"mapa_propiedades_sin_cluster.html\")\n",
    "print(\"OK → mapa_propiedades_sin_cluster.html\")"
   ],
   "id": "5fbb9b964cce2a65",
   "outputs": [
    {
     "ename": "TypeError",
     "evalue": "\"value\" parameter must be a scalar, dict or Series, but you passed a \"Index\"",
     "output_type": "error",
     "traceback": [
      "\u001B[31m---------------------------------------------------------------------------\u001B[39m",
      "\u001B[31mTypeError\u001B[39m                                 Traceback (most recent call last)",
      "\u001B[32m/var/folders/jf/v621z1711l7g1qv67v3lsyzm0000gn/T/ipykernel_81827/818972346.py\u001B[39m in \u001B[36m?\u001B[39m\u001B[34m()\u001B[39m\n\u001B[32m     52\u001B[39m         geo[\u001B[33m\"localidad\"\u001B[39m] = geo[\u001B[33m\"l2\"\u001B[39m]\n\u001B[32m     53\u001B[39m     \u001B[38;5;28;01melse\u001B[39;00m:\n\u001B[32m     54\u001B[39m         geo[\u001B[33m\"localidad\"\u001B[39m] = \u001B[33m\"prop_\"\u001B[39m + geo.index.astype(str)\n\u001B[32m     55\u001B[39m \n\u001B[32m---> \u001B[39m\u001B[32m56\u001B[39m     geo[\u001B[33m\"localidad\"\u001B[39m] = geo[\u001B[33m\"localidad\"\u001B[39m].fillna(\u001B[33m\"prop_\"\u001B[39m + geo.index.astype(str))\n\u001B[32m     57\u001B[39m \n\u001B[32m     58\u001B[39m \u001B[38;5;66;03m# ========= 5) Crear mapa y dibujar puntos (uno a uno, SIN agrupamiento)\u001B[39;00m\n\u001B[32m     59\u001B[39m center = [geo[\u001B[33m\"lat\"\u001B[39m].mean(), geo[\u001B[33m\"lon\"\u001B[39m].mean()]\n",
      "\u001B[32m/Library/Frameworks/Python.framework/Versions/3.13/lib/python3.13/site-packages/pandas/core/generic.py\u001B[39m in \u001B[36m?\u001B[39m\u001B[34m(self, value, method, axis, inplace, limit, downcast)\u001B[39m\n\u001B[32m   7358\u001B[39m                     value = value._values\n\u001B[32m   7359\u001B[39m                 \u001B[38;5;28;01melif\u001B[39;00m \u001B[38;5;28;01mnot\u001B[39;00m is_list_like(value):\n\u001B[32m   7360\u001B[39m                     \u001B[38;5;28;01mpass\u001B[39;00m\n\u001B[32m   7361\u001B[39m                 \u001B[38;5;28;01melse\u001B[39;00m:\n\u001B[32m-> \u001B[39m\u001B[32m7362\u001B[39m                     raise TypeError(\n\u001B[32m   7363\u001B[39m                         \u001B[33m'\"value\" parameter must be a scalar, dict '\u001B[39m\n\u001B[32m   7364\u001B[39m                         \u001B[33m\"or Series, but you passed a \"\u001B[39m\n\u001B[32m   7365\u001B[39m                         f'\"{type(value).__name__}\"'\n",
      "\u001B[31mTypeError\u001B[39m: \"value\" parameter must be a scalar, dict or Series, but you passed a \"Index\""
     ]
    }
   ],
   "execution_count": 11
  },
  {
   "metadata": {},
   "cell_type": "markdown",
   "source": "### 1. Overview of entrenamiento.csv",
   "id": "4080473af2affade"
  },
  {
   "metadata": {
    "ExecuteTime": {
     "end_time": "2025-09-28T20:06:52.842113Z",
     "start_time": "2025-09-28T19:55:20.800197Z"
    }
   },
   "cell_type": "code",
   "source": [
    "print('Shape:', train_df.shape)\n",
    "print('Columns:', train_df.columns.tolist())\n",
    "print(train_df.dtypes)\n"
   ],
   "id": "4c5324224abd41bd",
   "outputs": [
    {
     "name": "stdout",
     "output_type": "stream",
     "text": [
      "Shape: (992192, 25)\n",
      "Columns: ['id', 'ad_type', 'start_date', 'end_date', 'created_on', 'lat', 'lon', 'l1', 'l2', 'l3', 'l4', 'l5', 'l6', 'rooms', 'bedrooms', 'bathrooms', 'surface_total', 'surface_covered', 'currency', 'price_period', 'title', 'description', 'property_type', 'operation_type', 'price']\n",
      "id                   int64\n",
      "ad_type             object\n",
      "start_date          object\n",
      "end_date            object\n",
      "created_on          object\n",
      "lat                float64\n",
      "lon                float64\n",
      "l1                  object\n",
      "l2                  object\n",
      "l3                  object\n",
      "l4                  object\n",
      "l5                  object\n",
      "l6                 float64\n",
      "rooms              float64\n",
      "bedrooms           float64\n",
      "bathrooms          float64\n",
      "surface_total      float64\n",
      "surface_covered    float64\n",
      "currency            object\n",
      "price_period        object\n",
      "title               object\n",
      "description         object\n",
      "property_type       object\n",
      "operation_type      object\n",
      "price              float64\n",
      "dtype: object\n"
     ]
    }
   ],
   "execution_count": 12
  },
  {
   "metadata": {},
   "cell_type": "markdown",
   "source": "### 2. Missing Values Analysis",
   "id": "56a37cfa13444ac1"
  },
  {
   "metadata": {
    "ExecuteTime": {
     "end_time": "2025-09-28T20:06:52.898586Z",
     "start_time": "2025-09-28T19:55:24.506894Z"
    }
   },
   "cell_type": "code",
   "source": [
    "missing = train_df.isnull().sum().sort_values(ascending=False)\n",
    "print(missing[missing > 0])\n"
   ],
   "id": "f07c52a5f11eda44",
   "outputs": [
    {
     "name": "stdout",
     "output_type": "stream",
     "text": [
      "l6                 992192\n",
      "l5                 987481\n",
      "l4                 766797\n",
      "price_period       622253\n",
      "bedrooms           601493\n",
      "surface_covered    555231\n",
      "surface_total      544028\n",
      "rooms              489147\n",
      "bathrooms          219171\n",
      "lat                153198\n",
      "lon                152263\n",
      "l3                  57455\n",
      "currency            47251\n",
      "price               44381\n",
      "title                  28\n",
      "description            22\n",
      "dtype: int64\n"
     ]
    }
   ],
   "execution_count": 13
  },
  {
   "metadata": {},
   "cell_type": "markdown",
   "source": "### 3. Descriptive Statistics",
   "id": "71c6cdb2d7bc2194"
  },
  {
   "metadata": {
    "ExecuteTime": {
     "end_time": "2025-09-28T20:06:52.916404Z",
     "start_time": "2025-09-28T19:55:32.591541Z"
    }
   },
   "cell_type": "code",
   "source": "print(train_df.describe(include='all'))\n",
   "id": "2fe88054341ed086",
   "outputs": [
    {
     "name": "stdout",
     "output_type": "stream",
     "text": [
      "                    id    ad_type  start_date    end_date  created_on  \\\n",
      "count    992192.000000     992192      992192      992192      992192   \n",
      "unique             NaN          1         346         450         346   \n",
      "top                NaN  Propiedad  2020-03-21  9999-12-31  2020-03-21   \n",
      "freq               NaN     992192       13161      191147       13161   \n",
      "mean     500338.438758        NaN         NaN         NaN         NaN   \n",
      "std      288685.497758        NaN         NaN         NaN         NaN   \n",
      "min           1.000000        NaN         NaN         NaN         NaN   \n",
      "25%      250259.750000        NaN         NaN         NaN         NaN   \n",
      "50%      500641.500000        NaN         NaN         NaN         NaN   \n",
      "75%      750507.250000        NaN         NaN         NaN         NaN   \n",
      "max     1000000.000000        NaN         NaN         NaN         NaN   \n",
      "\n",
      "                  lat            lon         l1               l2  \\\n",
      "count   838994.000000  839929.000000     992192           992192   \n",
      "unique            NaN            NaN          4               42   \n",
      "top               NaN            NaN  Argentina  Capital Federal   \n",
      "freq              NaN            NaN     973422           249738   \n",
      "mean       -59.266586     -34.793745        NaN              NaN   \n",
      "std          2.707383       3.066257        NaN              NaN   \n",
      "min       -180.000000     -54.842464        NaN              NaN   \n",
      "25%        -58.756011     -34.921709        NaN              NaN   \n",
      "50%        -58.444383     -34.610508        NaN              NaN   \n",
      "75%        -58.058983     -34.459156        NaN              NaN   \n",
      "max        -35.045025      85.051129        NaN              NaN   \n",
      "\n",
      "                   l3  ...      bathrooms surface_total  surface_covered  \\\n",
      "count          934737  ...  773021.000000  448164.00000     4.369610e+05   \n",
      "unique           1262  ...            NaN           NaN              NaN   \n",
      "top     Mar del Plata  ...            NaN           NaN              NaN   \n",
      "freq           158074  ...            NaN           NaN              NaN   \n",
      "mean              NaN  ...       1.697637     493.51136     5.769533e+02   \n",
      "std               NaN  ...       1.072722    4101.38179     7.383998e+04   \n",
      "min               NaN  ...       1.000000    -200.00000    -1.700000e+02   \n",
      "25%               NaN  ...       1.000000      50.00000     4.500000e+01   \n",
      "50%               NaN  ...       1.000000      95.00000     7.500000e+01   \n",
      "75%               NaN  ...       2.000000     270.00000     1.550000e+02   \n",
      "max               NaN  ...      20.000000  200000.00000     2.700000e+07   \n",
      "\n",
      "        currency  price_period  \\\n",
      "count     944941        369939   \n",
      "unique         4             3   \n",
      "top          USD       Mensual   \n",
      "freq      722707        369836   \n",
      "mean         NaN           NaN   \n",
      "std          NaN           NaN   \n",
      "min          NaN           NaN   \n",
      "25%          NaN           NaN   \n",
      "50%          NaN           NaN   \n",
      "75%          NaN           NaN   \n",
      "max          NaN           NaN   \n",
      "\n",
      "                                                    title  \\\n",
      "count                                              992164   \n",
      "unique                                             454605   \n",
      "top     Departamento de 2 ambientes en Venta en Villa ...   \n",
      "freq                                                 1947   \n",
      "mean                                                  NaN   \n",
      "std                                                   NaN   \n",
      "min                                                   NaN   \n",
      "25%                                                   NaN   \n",
      "50%                                                   NaN   \n",
      "75%                                                   NaN   \n",
      "max                                                   NaN   \n",
      "\n",
      "                                        description  property_type  \\\n",
      "count                                        992170         992192   \n",
      "unique                                       638785             10   \n",
      "top     Departamento en Venta de 1 dorm. en Cordoba   Departamento   \n",
      "freq                                           1677         375203   \n",
      "mean                                            NaN            NaN   \n",
      "std                                             NaN            NaN   \n",
      "min                                             NaN            NaN   \n",
      "25%                                             NaN            NaN   \n",
      "50%                                             NaN            NaN   \n",
      "75%                                             NaN            NaN   \n",
      "max                                             NaN            NaN   \n",
      "\n",
      "       operation_type         price  \n",
      "count          992192  9.478110e+05  \n",
      "unique              3           NaN  \n",
      "top             Venta           NaN  \n",
      "freq           762318           NaN  \n",
      "mean              NaN  2.881687e+05  \n",
      "std               NaN  5.560863e+06  \n",
      "min               NaN  0.000000e+00  \n",
      "25%               NaN  3.900000e+04  \n",
      "50%               NaN  9.800000e+04  \n",
      "75%               NaN  2.100000e+05  \n",
      "max               NaN  3.100000e+09  \n",
      "\n",
      "[11 rows x 25 columns]\n"
     ]
    }
   ],
   "execution_count": 14
  },
  {
   "metadata": {},
   "cell_type": "markdown",
   "source": "### 4. Value Counts for Categorical Columns",
   "id": "2002ae6284293fc6"
  },
  {
   "metadata": {
    "ExecuteTime": {
     "end_time": "2025-09-28T20:06:52.920200Z",
     "start_time": "2025-09-28T19:56:14.579910Z"
    }
   },
   "cell_type": "code",
   "source": [
    "categorical_cols = train_df.select_dtypes(include=['object']).columns\n",
    "for col in categorical_cols:\n",
    "    print(f'\\nValue counts for {col}:')\n",
    "    print(train_df[col].value_counts(dropna=False).head(10))\n"
   ],
   "id": "85e20e4d8c2ce18",
   "outputs": [
    {
     "name": "stdout",
     "output_type": "stream",
     "text": [
      "\n",
      "Value counts for ad_type:\n",
      "ad_type\n",
      "Propiedad    992192\n",
      "Name: count, dtype: int64\n",
      "\n",
      "Value counts for start_date:\n",
      "start_date\n",
      "2020-03-21    13161\n",
      "2020-04-21    13063\n",
      "2020-02-25    13018\n",
      "2019-08-01    11081\n",
      "2020-02-27    10330\n",
      "2020-04-08    10020\n",
      "2020-01-09     9942\n",
      "2020-04-29     9211\n",
      "2020-03-18     8451\n",
      "2020-03-13     8402\n",
      "Name: count, dtype: int64\n",
      "\n",
      "Value counts for end_date:\n",
      "end_date\n",
      "9999-12-31    191147\n",
      "2020-04-28     75472\n",
      "2020-04-27     20937\n",
      "2019-12-23     19067\n",
      "2019-08-14     14359\n",
      "2020-06-01     11855\n",
      "2020-06-25     10565\n",
      "2020-02-19      9711\n",
      "2020-02-13      9049\n",
      "2020-09-23      8567\n",
      "Name: count, dtype: int64\n",
      "\n",
      "Value counts for created_on:\n",
      "created_on\n",
      "2020-03-21    13161\n",
      "2020-04-21    13063\n",
      "2020-02-25    13018\n",
      "2019-08-01    11081\n",
      "2020-02-27    10330\n",
      "2020-04-08    10020\n",
      "2020-01-09     9942\n",
      "2020-04-29     9211\n",
      "2020-03-18     8451\n",
      "2020-03-13     8402\n",
      "Name: count, dtype: int64\n",
      "\n",
      "Value counts for l1:\n",
      "l1\n",
      "Argentina         973422\n",
      "Uruguay            17929\n",
      "Estados Unidos       783\n",
      "Brasil                58\n",
      "Name: count, dtype: int64\n",
      "\n",
      "Value counts for l2:\n",
      "l2\n",
      "Capital Federal                 249738\n",
      "Buenos Aires Costa Atlántica    178712\n",
      "Bs.As. G.B.A. Zona Norte        127510\n",
      "Bs.As. G.B.A. Zona Sur          112975\n",
      "Santa Fe                         93111\n",
      "Bs.As. G.B.A. Zona Oeste         73172\n",
      "Córdoba                          60877\n",
      "Buenos Aires Interior            22280\n",
      "Mendoza                          11558\n",
      "Neuquén                          10642\n",
      "Name: count, dtype: int64\n",
      "\n",
      "Value counts for l3:\n",
      "l3\n",
      "Mar del Plata      158074\n",
      "Rosario             69559\n",
      "NaN                 57455\n",
      "Tigre               40334\n",
      "Palermo             35626\n",
      "La Plata            34816\n",
      "Córdoba             25685\n",
      "Lomas de Zamora     22664\n",
      "Pilar               18898\n",
      "Belgrano            17713\n",
      "Name: count, dtype: int64\n",
      "\n",
      "Value counts for l4:\n",
      "l4\n",
      "NaN            766797\n",
      "Nordelta        17310\n",
      "La Plata         8333\n",
      "Castelar         6951\n",
      "Ramos Mejía      5861\n",
      "Adrogué          4693\n",
      "Centro           4667\n",
      "Banfield         4625\n",
      "Tolosa           4621\n",
      "Olivos           4256\n",
      "Name: count, dtype: int64\n",
      "\n",
      "Value counts for l5:\n",
      "l5\n",
      "NaN                          987481\n",
      "Barrio Los Alisos               764\n",
      "Barrio El Golf                  648\n",
      "BarrioPortezuelo                612\n",
      "Barrio Los Lagos                354\n",
      "Barrio Los Sauces               268\n",
      "Barrio Lagos del Golf 2         241\n",
      "Barrio Los Tilos                211\n",
      "Barrio Barrancas del Lago       206\n",
      "Barrio Las Glorietas            203\n",
      "Name: count, dtype: int64\n",
      "\n",
      "Value counts for currency:\n",
      "currency\n",
      "USD    722707\n",
      "ARS    220109\n",
      "NaN     47251\n",
      "UYU      2085\n",
      "PEN        40\n",
      "Name: count, dtype: int64\n",
      "\n",
      "Value counts for price_period:\n",
      "price_period\n",
      "NaN        622253\n",
      "Mensual    369836\n",
      "Semanal        87\n",
      "Diario         16\n",
      "Name: count, dtype: int64\n",
      "\n",
      "Value counts for title:\n",
      "title\n",
      "Departamento de 2 ambientes en Venta en Villa crespo    1947\n",
      "Departamento - Centro                                   1709\n",
      "Departamento en Venta                                   1697\n",
      "Departamento de 2 ambientes en Venta en Almagro         1665\n",
      "Departamento - La Plata                                 1575\n",
      "Departamento de 1 ambiente en Venta en Villa crespo     1424\n",
      "Departamento - Palermo                                  1372\n",
      "Terreno de 1 ambiente en Venta en Villa crespo          1326\n",
      "DEPARTAMENTO EN VENTA                                   1292\n",
      "CASA EN ALQUILER 24 MESES RUMENCO                       1271\n",
      "Name: count, dtype: int64\n",
      "\n",
      "Value counts for description:\n",
      "description\n",
      "Departamento en Venta de 1 dorm. en Cordoba                                                                                                                                                                                                                                                                                                                                                                                                                                                                                                                                                                                                                                                                                                                                                                                                                                                                                                                                                                                                                                                                                                                                                                                                                                                                                                                                                                                                                                                                                                                                                            1677\n",
      "Departamento en Alquiler de 1 dorm. en Cordoba                                                                                                                                                                                                                                                                                                                                                                                                                                                                                                                                                                                                                                                                                                                                                                                                                                                                                                                                                                                                                                                                                                                                                                                                                                                                                                                                                                                                                                                                                                                                                         1023\n",
      "Casa en Venta de 2 dorm. en Cordoba                                                                                                                                                                                                                                                                                                                                                                                                                                                                                                                                                                                                                                                                                                                                                                                                                                                                                                                                                                                                                                                                                                                                                                                                                                                                                                                                                                                                                                                                                                                                                                     614\n",
      "Terreno en Venta en Cordoba                                                                                                                                                                                                                                                                                                                                                                                                                                                                                                                                                                                                                                                                                                                                                                                                                                                                                                                                                                                                                                                                                                                                                                                                                                                                                                                                                                                                                                                                                                                                                                             591\n",
      "Casa en Venta de 3 dorm. en Cordoba                                                                                                                                                                                                                                                                                                                                                                                                                                                                                                                                                                                                                                                                                                                                                                                                                                                                                                                                                                                                                                                                                                                                                                                                                                                                                                                                                                                                                                                                                                                                                                     540\n",
      "Departamento en Venta de 2 dorm. en Cordoba                                                                                                                                                                                                                                                                                                                                                                                                                                                                                                                                                                                                                                                                                                                                                                                                                                                                                                                                                                                                                                                                                                                                                                                                                                                                                                                                                                                                                                                                                                                                                             475\n",
      "Casa Crespo es el primer edificio Premium que se construirà en Villa Crespo . Ameniries de Catergoría . Detalles arquitectonicos de gran calidad y una ubicación excepcional hacen una ecuación perfecta . Entrega Estimada 2020 - Se deja constancia que las caracteristicas, medidas, expensas y superficies  consignadas son aproximadas, sujetos a verificación y/o ajuste. El precio del inmueble puede ser modificado sin previo aviso. Fotos de carácter no contractual. Las unidades publicadas están sujetas a disponibilidad.                                                                                                                                                                                                                                                                                                                                                                                                                                                                                                                                                                                                                                                                                                                                                                                                                                                                                                                                                                                                                                                                 473\n",
      "Casa en Venta de 1 dorm. en Cordoba                                                                                                                                                                                                                                                                                                                                                                                                                                                                                                                                                                                                                                                                                                                                                                                                                                                                                                                                                                                                                                                                                                                                                                                                                                                                                                                                                                                                                                                                                                                                                                     396\n",
      "Hermoso monoambiente al frente con balcon aterrazado, pisos de porcellanato, detalles de categoria mucha luz, cerca de subtes A y B y de Avdas, excelente ubicacion, apto profesional. Se deja constancia que las caracteristicas, medidas, expensas y superficies  consignadas son aproximadas, sujetos a verificación y/o ajuste. El precio del inmueble puede ser modificado sin previo aviso. Fotos de carácter no contractual. Las unidades publicadas están sujetas a disponibilidad.                                                                                                                                                                                                                                                                                                                                                                                                                                                                                                                                                                                                                                                                                                                                                                                                                                                                                                                                                                                                                                                                                                             334\n",
      "1 Y 2 AMBIENTES ESTRAGICAMENTE UBICADOS . PRECIOS PRECIOS PROMOCIONALES LANZAMIENTO. Las características de las unidades serán de excelente nivel, con un diseño arquitectónico clásico y contemporáneo, apto para satisfacer las necesidades de  los clientes más exigentes. Productos vendibles y de alta calidad. Una excelente oportunidad para invertir en una de las mejores zonas de las  Ciudad de Buenos Aires. Terminación de los ambientes en enlucido de yeso en paredes, techos y cielorrasos suspendidos. Acabado final en pintura látex para interiores. Revestimientos de cerámicos en baños y sectores de cocina. Pisos flotantes en el área del estar, comedor y dormitorio. Cerámico de 1° marca en baños y cocinas. Zócalos de madera en estar comedor y dormitorio. Cerámicos en baños y áreas de cocina. Carpinterías de madera en alacenas y bajo mesada, revestidas en melamina. Puertas de acceso, interiores y de placares revestidas en roble nacional. Carpinterías exteriores en aluminio anodizado. Instalaciones eléctricas, incluyen telefonía y cablemódem. Instalaciones sanitarias, bacha de cocina de acero inoxidable (Johnson o similar), artefactos sanitarios (Ferrum o similar), griferías (FV o similar monocomando).  Se deja constancia que las caracteristicas, medidas, expensas y superficies  consignadas son aproximadas, sujetos a verificación y/o ajuste. El precio del inmueble puede ser modificado sin previo aviso. Fotos de carácter no contractual. Las unidades publicadas están sujetas a disponibilidad. Whatsapp:. 11- Amante Gabriel     255\n",
      "Name: count, dtype: int64\n",
      "\n",
      "Value counts for property_type:\n",
      "property_type\n",
      "Departamento       375203\n",
      "Otro               239725\n",
      "Casa               179720\n",
      "Lote                80772\n",
      "PH                  35868\n",
      "Local comercial     35638\n",
      "Oficina             26616\n",
      "Cochera              9464\n",
      "Depósito             7499\n",
      "Casa de campo        1687\n",
      "Name: count, dtype: int64\n",
      "\n",
      "Value counts for operation_type:\n",
      "operation_type\n",
      "Venta                762318\n",
      "Alquiler             199399\n",
      "Alquiler temporal     30475\n",
      "Name: count, dtype: int64\n"
     ]
    }
   ],
   "execution_count": 15
  },
  {
   "metadata": {},
   "cell_type": "markdown",
   "source": "### 5. Distribution Plots for Key Numerical Columns",
   "id": "73a5179410b2f4db"
  },
  {
   "metadata": {
    "jupyter": {
     "is_executing": true
    },
    "ExecuteTime": {
     "end_time": "2025-09-28T20:06:52.935598Z",
     "start_time": "2025-09-28T19:56:22.170863Z"
    }
   },
   "cell_type": "code",
   "source": [
    "import matplotlib.pyplot as plt\n",
    "import seaborn as sns\n",
    "num_cols = ['rooms', 'bedrooms', 'bathrooms', 'surface_total', 'surface_covered', 'price']\n",
    "for col in num_cols:\n",
    "    if col in train_df.columns:\n",
    "        plt.figure(figsize=(6, 3))\n",
    "        sns.histplot(train_df[col].dropna(), kde=True)\n",
    "        plt.title(f'Distribution of {col}')\n",
    "        plt.show()\n"
   ],
   "id": "14989e43713d4a8c",
   "outputs": [
    {
     "data": {
      "text/plain": [
       "<Figure size 600x300 with 1 Axes>"
      ],
      "image/png": "[encoded data removed]"
     },
     "metadata": {},
     "output_type": "display_data"
    },
    {
     "data": {
      "text/plain": [
       "<Figure size 600x300 with 1 Axes>"
      ],
      "image/png": "[encoded data removed]"
     },
     "metadata": {},
     "output_type": "display_data"
    },
    {
     "data": {
      "text/plain": [
       "<Figure size 600x300 with 1 Axes>"
      ],
      "image/png": "[encoded data removed]"
     },
     "metadata": {},
     "output_type": "display_data"
    }
   ],
   "execution_count": null
  },
  {
   "metadata": {},
   "cell_type": "markdown",
   "source": "### 6. Correlation Matrix",
   "id": "fcaa2be234516d90"
  },
  {
   "metadata": {
    "ExecuteTime": {
     "end_time": "2025-09-28T20:06:52.942039Z",
     "start_time": "2025-09-28T20:06:40.909394Z"
    }
   },
   "cell_type": "code",
   "source": [
    "plt.figure(figsize=(8, 6))\n",
    "sns.heatmap(train_df[num_cols].corr(), annot=True, cmap='coolwarm')\n",
    "plt.title('Correlation Matrix')\n",
    "plt.show()\n"
   ],
   "id": "7511063a667f2e6e",
   "outputs": [
    {
     "ename": "NameError",
     "evalue": "name 'plt' is not defined",
     "output_type": "error",
     "traceback": [
      "\u001B[31m---------------------------------------------------------------------------\u001B[39m",
      "\u001B[31mNameError\u001B[39m                                 Traceback (most recent call last)",
      "\u001B[36mCell\u001B[39m\u001B[36m \u001B[39m\u001B[32mIn[1]\u001B[39m\u001B[32m, line 1\u001B[39m\n\u001B[32m----> \u001B[39m\u001B[32m1\u001B[39m \u001B[43mplt\u001B[49m.figure(figsize=(\u001B[32m8\u001B[39m, \u001B[32m6\u001B[39m))\n\u001B[32m      2\u001B[39m sns.heatmap(train_df[num_cols].corr(), annot=\u001B[38;5;28;01mTrue\u001B[39;00m, cmap=\u001B[33m'\u001B[39m\u001B[33mcoolwarm\u001B[39m\u001B[33m'\u001B[39m)\n\u001B[32m      3\u001B[39m plt.title(\u001B[33m'\u001B[39m\u001B[33mCorrelation Matrix\u001B[39m\u001B[33m'\u001B[39m)\n",
      "\u001B[31mNameError\u001B[39m: name 'plt' is not defined"
     ]
    }
   ],
   "execution_count": 1
  }
 ],
 "metadata": {
  "kernelspec": {
   "display_name": "base",
   "language": "python",
   "name": "python3"
  },
  "language_info": {
   "codemirror_mode": {
    "name": "ipython",
    "version": 3
   },
   "file_extension": ".py",
   "mimetype": "text/x-python",
   "name": "python",
   "nbconvert_exporter": "python",
   "pygments_lexer": "ipython3",
   "version": "3.12.7"
  }
 },
 "nbformat": 4,
 "nbformat_minor": 5
}

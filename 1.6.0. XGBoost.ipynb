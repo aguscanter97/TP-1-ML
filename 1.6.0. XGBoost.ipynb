{
 "cells": [
  {
   "cell_type": "markdown",
   "id": "04d2a09a",
   "metadata": {},
   "source": [
    "### XGBoost"
   ]
  },
  {
   "cell_type": "code",
   "execution_count": null,
   "id": "54633b6e",
   "metadata": {},
   "outputs": [],
   "source": [
    "from xgboost import XGBClassifier\n",
    "from sklearn.model_selection import train_test_split\n",
    "from sklearn.metrics import roc_auc_score\n",
    "\n",
    "def fit_transform_xgb(X, y):\n",
    "    X_train, X_val, y_train, y_val = train_test_split(\n",
    "        X, y, test_size=0.2, stratify=y, random_state=12345\n",
    "    )\n",
    "\n",
    "    xgb = XGBClassifier(\n",
    "        n_estimators=400,\n",
    "        max_depth=4,\n",
    "        n_jobs=-1,\n",
    "        random_state=12345,\n",
    "        eval_metric=\"auc\"  # evita warnings y usa AUC en validación\n",
    "    )\n",
    "    xgb.fit(X_train, y_train)\n",
    "\n",
    "    proba = xgb.predict_proba(X_val)[:, 1]\n",
    "    auc = roc_auc_score(y_val, proba)\n",
    "    return xgb, auc, proba"
   ]
  },
  {
   "cell_type": "markdown",
   "id": "d6e55042",
   "metadata": {},
   "source": []
  }
 ],
 "metadata": {
  "language_info": {
   "name": "python"
  }
 },
 "nbformat": 4,
 "nbformat_minor": 5
}

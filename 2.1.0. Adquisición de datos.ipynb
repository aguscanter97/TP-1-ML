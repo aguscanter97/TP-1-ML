{
 "cells": [
  {
   "cell_type": "markdown",
   "id": "0e019dfd",
   "metadata": {},
   "source": [
    "### Parte 2 - Adquisición de datos"
   ]
  },
  {
   "cell_type": "code",
   "execution_count": 1,
   "id": "934d20c7",
   "metadata": {},
   "outputs": [],
   "source": [
    "import pandas as pd\n",
    "\n",
    "train_df = pd.read_csv(\"Parte 2/entrenamiento.csv\")"
   ]
  },
  {
   "cell_type": "code",
   "execution_count": 5,
   "id": "ff1ed1e6",
   "metadata": {},
   "outputs": [
    {
     "data": {
      "text/html": [
       "\n",
       "            <div>\n",
       "                <ins><a href=\"https://ydata.ai/register\">Upgrade to ydata-sdk</a></ins>\n",
       "                <p>\n",
       "                    Improve your data and profiling with ydata-sdk, featuring data quality scoring, redundancy detection, outlier identification, text validation, and synthetic data generation.\n",
       "                </p>\n",
       "            </div>\n",
       "            "
      ],
      "text/plain": [
       "<IPython.core.display.HTML object>"
      ]
     },
     "metadata": {},
     "output_type": "display_data"
    },
    {
     "data": {
      "application/vnd.jupyter.widget-view+json": {
       "model_id": "bc3548c4e24843ff9dd540939ef7f6c9",
       "version_major": 2,
       "version_minor": 0
      },
      "text/plain": [
       "Summarize dataset:   0%|          | 0/5 [00:00<?, ?it/s]"
      ]
     },
     "metadata": {},
     "output_type": "display_data"
    },
    {
     "name": "stderr",
     "output_type": "stream",
     "text": [
      "100%|██████████| 25/25 [00:03<00:00,  6.90it/s]\n"
     ]
    },
    {
     "data": {
      "application/vnd.jupyter.widget-view+json": {
       "model_id": "f08cfa022fa844808d4252d0c89b6502",
       "version_major": 2,
       "version_minor": 0
      },
      "text/plain": [
       "Generate report structure:   0%|          | 0/1 [00:00<?, ?it/s]"
      ]
     },
     "metadata": {},
     "output_type": "display_data"
    },
    {
     "data": {
      "application/vnd.jupyter.widget-view+json": {
       "model_id": "91178c46eae74347936a1ad969508e44",
       "version_major": 2,
       "version_minor": 0
      },
      "text/plain": [
       "Render HTML:   0%|          | 0/1 [00:00<?, ?it/s]"
      ]
     },
     "metadata": {},
     "output_type": "display_data"
    },
    {
     "data": {
      "application/vnd.jupyter.widget-view+json": {
       "model_id": "9c4405d59f2e47918caf0ab3f88af880",
       "version_major": 2,
       "version_minor": 0
      },
      "text/plain": [
       "Export report to file:   0%|          | 0/1 [00:00<?, ?it/s]"
      ]
     },
     "metadata": {},
     "output_type": "display_data"
    },
    {
     "data": {
      "text/html": [
       "<div>\n",
       "<style scoped>\n",
       "    .dataframe tbody tr th:only-of-type {\n",
       "        vertical-align: middle;\n",
       "    }\n",
       "\n",
       "    .dataframe tbody tr th {\n",
       "        vertical-align: top;\n",
       "    }\n",
       "\n",
       "    .dataframe thead th {\n",
       "        text-align: right;\n",
       "    }\n",
       "</style>\n",
       "<table border=\"1\" class=\"dataframe\">\n",
       "  <thead>\n",
       "    <tr style=\"text-align: right;\">\n",
       "      <th></th>\n",
       "      <th>id</th>\n",
       "      <th>ad_type</th>\n",
       "      <th>start_date</th>\n",
       "      <th>end_date</th>\n",
       "      <th>created_on</th>\n",
       "      <th>lat</th>\n",
       "      <th>lon</th>\n",
       "      <th>l1</th>\n",
       "      <th>l2</th>\n",
       "      <th>l3</th>\n",
       "      <th>...</th>\n",
       "      <th>bathrooms</th>\n",
       "      <th>surface_total</th>\n",
       "      <th>surface_covered</th>\n",
       "      <th>currency</th>\n",
       "      <th>price_period</th>\n",
       "      <th>title</th>\n",
       "      <th>description</th>\n",
       "      <th>property_type</th>\n",
       "      <th>operation_type</th>\n",
       "      <th>price</th>\n",
       "    </tr>\n",
       "  </thead>\n",
       "  <tbody>\n",
       "    <tr>\n",
       "      <th>0</th>\n",
       "      <td>556713</td>\n",
       "      <td>Propiedad</td>\n",
       "      <td>2019-11-29</td>\n",
       "      <td>9999-12-31</td>\n",
       "      <td>2019-11-29</td>\n",
       "      <td>-58.442399</td>\n",
       "      <td>-34.573623</td>\n",
       "      <td>Argentina</td>\n",
       "      <td>Capital Federal</td>\n",
       "      <td>Colegiales</td>\n",
       "      <td>...</td>\n",
       "      <td>2.0</td>\n",
       "      <td>NaN</td>\n",
       "      <td>NaN</td>\n",
       "      <td>USD</td>\n",
       "      <td>NaN</td>\n",
       "      <td>Departamento en Venta en Belgrano, Capital fed...</td>\n",
       "      <td>Sup total por escritura: 96,47 m2 (cubiertos: ...</td>\n",
       "      <td>Departamento</td>\n",
       "      <td>Venta</td>\n",
       "      <td>259000.0</td>\n",
       "    </tr>\n",
       "    <tr>\n",
       "      <th>1</th>\n",
       "      <td>192912</td>\n",
       "      <td>Propiedad</td>\n",
       "      <td>2020-06-05</td>\n",
       "      <td>2020-06-08</td>\n",
       "      <td>2020-06-05</td>\n",
       "      <td>-58.430493</td>\n",
       "      <td>-34.606620</td>\n",
       "      <td>Argentina</td>\n",
       "      <td>Capital Federal</td>\n",
       "      <td>Almagro</td>\n",
       "      <td>...</td>\n",
       "      <td>2.0</td>\n",
       "      <td>77.0</td>\n",
       "      <td>67.0</td>\n",
       "      <td>USD</td>\n",
       "      <td>NaN</td>\n",
       "      <td>Departamento de 3 ambientes en Venta en Almagro</td>\n",
       "      <td>Excelente departamento de tres ambientes ampli...</td>\n",
       "      <td>Departamento</td>\n",
       "      <td>Venta</td>\n",
       "      <td>235500.0</td>\n",
       "    </tr>\n",
       "    <tr>\n",
       "      <th>2</th>\n",
       "      <td>238224</td>\n",
       "      <td>Propiedad</td>\n",
       "      <td>2020-07-01</td>\n",
       "      <td>9999-12-31</td>\n",
       "      <td>2020-07-01</td>\n",
       "      <td>-58.491760</td>\n",
       "      <td>-34.574123</td>\n",
       "      <td>Argentina</td>\n",
       "      <td>Capital Federal</td>\n",
       "      <td>Villa Urquiza</td>\n",
       "      <td>...</td>\n",
       "      <td>1.0</td>\n",
       "      <td>60.0</td>\n",
       "      <td>55.0</td>\n",
       "      <td>USD</td>\n",
       "      <td>NaN</td>\n",
       "      <td>Andonaegui   2600 4°  -  - Departamento en Venta</td>\n",
       "      <td>Excelente 3 ambientes al frente con balcón. Vi...</td>\n",
       "      <td>Departamento</td>\n",
       "      <td>Venta</td>\n",
       "      <td>175000.0</td>\n",
       "    </tr>\n",
       "    <tr>\n",
       "      <th>3</th>\n",
       "      <td>257134</td>\n",
       "      <td>Propiedad</td>\n",
       "      <td>2019-08-17</td>\n",
       "      <td>9999-12-31</td>\n",
       "      <td>2019-08-17</td>\n",
       "      <td>-58.420737</td>\n",
       "      <td>-34.631770</td>\n",
       "      <td>Argentina</td>\n",
       "      <td>Capital Federal</td>\n",
       "      <td>Boedo</td>\n",
       "      <td>...</td>\n",
       "      <td>1.0</td>\n",
       "      <td>74.0</td>\n",
       "      <td>47.0</td>\n",
       "      <td>USD</td>\n",
       "      <td>NaN</td>\n",
       "      <td>PH Venta Boedo 2 amb Patio</td>\n",
       "      <td>Corredor Responsable: MARCELO TRUJILLO -  CPI ...</td>\n",
       "      <td>PH</td>\n",
       "      <td>Venta</td>\n",
       "      <td>140000.0</td>\n",
       "    </tr>\n",
       "    <tr>\n",
       "      <th>4</th>\n",
       "      <td>521738</td>\n",
       "      <td>Propiedad</td>\n",
       "      <td>2019-08-05</td>\n",
       "      <td>2019-08-31</td>\n",
       "      <td>2019-08-05</td>\n",
       "      <td>-58.429983</td>\n",
       "      <td>-34.607225</td>\n",
       "      <td>Argentina</td>\n",
       "      <td>Capital Federal</td>\n",
       "      <td>Almagro</td>\n",
       "      <td>...</td>\n",
       "      <td>1.0</td>\n",
       "      <td>66.0</td>\n",
       "      <td>64.0</td>\n",
       "      <td>USD</td>\n",
       "      <td>NaN</td>\n",
       "      <td>Venta 3 Ambientes - Almagro - Balcón - Ameniti...</td>\n",
       "      <td>Corredor Responsable: Marcelo Trujillo - CUCIC...</td>\n",
       "      <td>Departamento</td>\n",
       "      <td>Venta</td>\n",
       "      <td>173000.0</td>\n",
       "    </tr>\n",
       "  </tbody>\n",
       "</table>\n",
       "<p>5 rows × 25 columns</p>\n",
       "</div>"
      ],
      "text/plain": [
       "       id    ad_type  start_date    end_date  created_on        lat  \\\n",
       "0  556713  Propiedad  2019-11-29  9999-12-31  2019-11-29 -58.442399   \n",
       "1  192912  Propiedad  2020-06-05  2020-06-08  2020-06-05 -58.430493   \n",
       "2  238224  Propiedad  2020-07-01  9999-12-31  2020-07-01 -58.491760   \n",
       "3  257134  Propiedad  2019-08-17  9999-12-31  2019-08-17 -58.420737   \n",
       "4  521738  Propiedad  2019-08-05  2019-08-31  2019-08-05 -58.429983   \n",
       "\n",
       "         lon         l1               l2             l3  ... bathrooms  \\\n",
       "0 -34.573623  Argentina  Capital Federal     Colegiales  ...       2.0   \n",
       "1 -34.606620  Argentina  Capital Federal        Almagro  ...       2.0   \n",
       "2 -34.574123  Argentina  Capital Federal  Villa Urquiza  ...       1.0   \n",
       "3 -34.631770  Argentina  Capital Federal          Boedo  ...       1.0   \n",
       "4 -34.607225  Argentina  Capital Federal        Almagro  ...       1.0   \n",
       "\n",
       "  surface_total  surface_covered  currency  price_period  \\\n",
       "0           NaN              NaN       USD           NaN   \n",
       "1          77.0             67.0       USD           NaN   \n",
       "2          60.0             55.0       USD           NaN   \n",
       "3          74.0             47.0       USD           NaN   \n",
       "4          66.0             64.0       USD           NaN   \n",
       "\n",
       "                                               title  \\\n",
       "0  Departamento en Venta en Belgrano, Capital fed...   \n",
       "1    Departamento de 3 ambientes en Venta en Almagro   \n",
       "2   Andonaegui   2600 4°  -  - Departamento en Venta   \n",
       "3                         PH Venta Boedo 2 amb Patio   \n",
       "4  Venta 3 Ambientes - Almagro - Balcón - Ameniti...   \n",
       "\n",
       "                                         description  property_type  \\\n",
       "0  Sup total por escritura: 96,47 m2 (cubiertos: ...   Departamento   \n",
       "1  Excelente departamento de tres ambientes ampli...   Departamento   \n",
       "2  Excelente 3 ambientes al frente con balcón. Vi...   Departamento   \n",
       "3  Corredor Responsable: MARCELO TRUJILLO -  CPI ...             PH   \n",
       "4  Corredor Responsable: Marcelo Trujillo - CUCIC...   Departamento   \n",
       "\n",
       "  operation_type     price  \n",
       "0          Venta  259000.0  \n",
       "1          Venta  235500.0  \n",
       "2          Venta  175000.0  \n",
       "3          Venta  140000.0  \n",
       "4          Venta  173000.0  \n",
       "\n",
       "[5 rows x 25 columns]"
      ]
     },
     "execution_count": 5,
     "metadata": {},
     "output_type": "execute_result"
    }
   ],
   "source": [
    "from ydata_profiling import ProfileReport\n",
    "\n",
    "\n",
    "# Opciones para que sea liviano\n",
    "profile = ProfileReport(\n",
    "    train_df.sample(20000, random_state=42) if len(train_df) > 20000 else train_df,\n",
    "    title=\"EDA - application_train\",\n",
    "    minimal=True,         # desactiva análisis costosos\n",
    "    explorative=True      # agrega secciones útiles\n",
    ")\n",
    "\n",
    "profile.to_file(\"TPML_Parte2_eda_profile.html\")  # <-- abre este HTML en el navegador\n",
    "\n",
    "\n",
    "# Display the first few rows of the train dataset\n",
    "train_df.head()"
   ]
  },
  {
   "cell_type": "code",
   "execution_count": 4,
   "id": "e5bc8e40",
   "metadata": {},
   "outputs": [
    {
     "name": "stdout",
     "output_type": "stream",
     "text": [
      "<class 'pandas.core.frame.DataFrame'>\n",
      "RangeIndex: 992192 entries, 0 to 992191\n",
      "Data columns (total 25 columns):\n",
      " #   Column           Non-Null Count   Dtype  \n",
      "---  ------           --------------   -----  \n",
      " 0   id               992192 non-null  int64  \n",
      " 1   ad_type          992192 non-null  object \n",
      " 2   start_date       992192 non-null  object \n",
      " 3   end_date         992192 non-null  object \n",
      " 4   created_on       992192 non-null  object \n",
      " 5   lat              838994 non-null  float64\n",
      " 6   lon              839929 non-null  float64\n",
      " 7   l1               992192 non-null  object \n",
      " 8   l2               992192 non-null  object \n",
      " 9   l3               934737 non-null  object \n",
      " 10  l4               225395 non-null  object \n",
      " 11  l5               4711 non-null    object \n",
      " 12  l6               0 non-null       float64\n",
      " 13  rooms            503045 non-null  float64\n",
      " 14  bedrooms         390699 non-null  float64\n",
      " 15  bathrooms        773021 non-null  float64\n",
      " 16  surface_total    448164 non-null  float64\n",
      " 17  surface_covered  436961 non-null  float64\n",
      " 18  currency         944941 non-null  object \n",
      " 19  price_period     369939 non-null  object \n",
      " 20  title            992164 non-null  object \n",
      " 21  description      992170 non-null  object \n",
      " 22  property_type    992192 non-null  object \n",
      " 23  operation_type   992192 non-null  object \n",
      " 24  price            947811 non-null  float64\n",
      "dtypes: float64(9), int64(1), object(15)\n",
      "memory usage: 189.2+ MB\n"
     ]
    }
   ],
   "source": [
    "train_df.info()"
   ]
  },
  {
   "cell_type": "markdown",
   "id": "d5b55aa2",
   "metadata": {},
   "source": [
    "En el EDA profiling se observa que hay varias columnas, ejemplo ID, con valores únicos strings y valores con todos valores distintos strings. se trabajará esto en el Prework y feature engineering."
   ]
  },
  {
   "cell_type": "markdown",
   "id": "484db080",
   "metadata": {},
   "source": []
  }
 ],
 "metadata": {
  "kernelspec": {
   "display_name": "base",
   "language": "python",
   "name": "python3"
  },
  "language_info": {
   "codemirror_mode": {
    "name": "ipython",
    "version": 3
   },
   "file_extension": ".py",
   "mimetype": "text/x-python",
   "name": "python",
   "nbconvert_exporter": "python",
   "pygments_lexer": "ipython3",
   "version": "3.12.7"
  }
 },
 "nbformat": 4,
 "nbformat_minor": 5
}

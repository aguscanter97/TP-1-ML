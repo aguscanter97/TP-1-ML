{
 "cells": [
  {
   "cell_type": "markdown",
   "id": "35a2d7d5",
   "metadata": {},
   "source": [
    "### Adquisición de Datos & Merges\n",
    "propongo hacer un archivo de adquisición de datos (creo qué únicamente tiene sentido si mergeamos cosas)"
   ]
  }
 ],
 "metadata": {
  "language_info": {
   "name": "python"
  }
 },
 "nbformat": 4,
 "nbformat_minor": 5
}

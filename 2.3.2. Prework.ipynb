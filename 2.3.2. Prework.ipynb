{
 "cells": [
  {
   "cell_type": "markdown",
   "id": "37949172",
   "metadata": {},
   "source": [
    "### Prework & Feature engineering"
   ]
  },
  {
   "cell_type": "code",
   "execution_count": 58,
   "id": "bc4bffe0",
   "metadata": {},
   "outputs": [],
   "source": [
    "import pandas as pd\n",
    "\n",
    "train_df = pd.read_csv(\"Parte 2/entrenamiento.csv\")"
   ]
  },
  {
   "cell_type": "code",
   "execution_count": 59,
   "id": "a4c44c85",
   "metadata": {},
   "outputs": [],
   "source": [
    "## Relación superficie cubierta / total\n",
    "\n",
    "train_df[\"covered_ratio\"] = train_df[\"surface_covered\"] / train_df[\"surface_total\"]\n",
    "\n",
    "## Generamos variable de año de creación del aviso de venta\n",
    "\n",
    "train_df[\"created_on\"] = pd.to_datetime(train_df[\"created_on\"], errors=\"coerce\")\n",
    "train_df[\"year_created\"] = train_df[\"created_on\"].dt.year\n",
    "train_df[\"month_created\"] = train_df[\"created_on\"].dt.month\n",
    "train_df[\"age_of_ad\"] = (pd.to_datetime(\"today\") - train_df[\"created_on\"]).dt.days"
   ]
  },
  {
   "cell_type": "code",
   "execution_count": 60,
   "id": "a4c25557",
   "metadata": {},
   "outputs": [
    {
     "name": "stdout",
     "output_type": "stream",
     "text": [
      "Reemplazados 191147 registros con año 9999.\n"
     ]
    }
   ],
   "source": [
    "import pandas as pd\n",
    "\n",
    "# detectar 9999 y reemplazar por 2025-09-28\n",
    "mask_9999 = train_df[\"end_date\"].astype(\"string\").str.strip().str.startswith(\"9999\", na=False)\n",
    "n = int(mask_9999.sum())\n",
    "train_df.loc[mask_9999, \"end_date\"] = \"2025-09-28\"\n",
    "\n",
    "# convertir a datetime (ya sin 9999)\n",
    "train_df[\"end_date\"] = pd.to_datetime(train_df[\"end_date\"], errors=\"coerce\")\n",
    "\n",
    "print(f\"Reemplazados {n} registros con año 9999.\")"
   ]
  },
  {
   "cell_type": "code",
   "execution_count": null,
   "id": "57e8ca2d",
   "metadata": {},
   "outputs": [
    {
     "data": {
      "text/plain": [
       "696691"
      ]
     },
     "execution_count": 61,
     "metadata": {},
     "output_type": "execute_result"
    }
   ],
   "source": [
    "# df_conv[\"price_m2\"] = df_conv[\"price_usd_blue\"] / df_conv[\"surface_total\"].replace(0, pd.NA)\n",
    "\n",
    "# df_conv[\"operation_type\"].value_counts(dropna=False)\n",
    "\n",
    "train_df = train_df[train_df[\"currency\"] == \"USD\"]\n",
    "df_conv = train_df[train_df[\"operation_type\"] ==  'Venta'] # Cambiar por: \"Alquiler\" / \"Alquiler temporal\"\n",
    "\n",
    "\n",
    "len(df_conv)"
   ]
  },
  {
   "cell_type": "code",
   "execution_count": 62,
   "id": "7db8638d",
   "metadata": {},
   "outputs": [],
   "source": [
    "df_conv.to_parquet(f\"./train_2_Prework.parquet\")"
   ]
  }
 ],
 "metadata": {
  "kernelspec": {
   "display_name": "base",
   "language": "python",
   "name": "python3"
  },
  "language_info": {
   "codemirror_mode": {
    "name": "ipython",
    "version": 3
   },
   "file_extension": ".py",
   "mimetype": "text/x-python",
   "name": "python",
   "nbconvert_exporter": "python",
   "pygments_lexer": "ipython3",
   "version": "3.12.7"
  }
 },
 "nbformat": 4,
 "nbformat_minor": 5
}

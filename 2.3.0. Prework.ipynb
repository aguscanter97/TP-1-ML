{
 "cells": [
  {
   "cell_type": "markdown",
   "id": "37949172",
   "metadata": {},
   "source": [
    "### Prework & Feature engineering"
   ]
  },
  {
   "cell_type": "code",
   "execution_count": 2,
   "id": "bc4bffe0",
   "metadata": {},
   "outputs": [],
   "source": [
    "import pandas as pd\n",
    "\n",
    "train_df = pd.read_csv(\"Parte 2/entrenamiento.csv\")"
   ]
  },
  {
   "cell_type": "code",
   "execution_count": 3,
   "id": "a4c44c85",
   "metadata": {},
   "outputs": [],
   "source": [
    "## Creamos columna precio/metros cuadrados -> será la variable target a predecir\n",
    "\n",
    "train_df[\"price_m2\"] = train_df[\"price\"] / train_df[\"surface_total\"].replace(0, pd.NA)\n",
    "\n",
    "## Relación superficie cubierta / total\n",
    "\n",
    "train_df[\"covered_ratio\"] = train_df[\"surface_covered\"] / train_df[\"surface_total\"]\n",
    "\n",
    "## Generamos variable de año de creación del aviso de venta\n",
    "\n",
    "train_df[\"created_on\"] = pd.to_datetime(train_df[\"created_on\"], errors=\"coerce\")\n",
    "train_df[\"year_created\"] = train_df[\"created_on\"].dt.year\n",
    "train_df[\"month_created\"] = train_df[\"created_on\"].dt.month\n",
    "train_df[\"age_of_ad\"] = (pd.to_datetime(\"today\") - train_df[\"created_on\"]).dt.days"
   ]
  }
 ],
 "metadata": {
  "kernelspec": {
   "display_name": "base",
   "language": "python",
   "name": "python3"
  },
  "language_info": {
   "codemirror_mode": {
    "name": "ipython",
    "version": 3
   },
   "file_extension": ".py",
   "mimetype": "text/x-python",
   "name": "python",
   "nbconvert_exporter": "python",
   "pygments_lexer": "ipython3",
   "version": "3.12.7"
  }
 },
 "nbformat": 4,
 "nbformat_minor": 5
}

{
 "cells": [
  {
   "cell_type": "markdown",
   "id": "643f4bd3",
   "metadata": {},
   "source": [
    "### Prework\n",
    "\n",
    "Realizamos la limpieza y adaptación de las variables."
   ]
  },
  {
   "cell_type": "code",
   "execution_count": 2,
   "id": "1b833a1d",
   "metadata": {},
   "outputs": [],
   "source": [
    "import pandas as pd\n",
    "\n",
    "train_df = pd.read_csv(\"application_train.csv\")\n",
    "\n",
    "\n",
    "# Detectar columnas con solo \"y\"/\"n\" y mapear a 1/0\n",
    "bool_cols = [c for c in train_df.columns if set(train_df[c].dropna().unique()) <= {\"y\", \"n\"}]\n",
    "if bool_cols:\n",
    "    train_df[bool_cols] = train_df[bool_cols].apply(lambda s: s.map({\"y\": 1, \"n\": 0}).astype(\"int8\"))"
   ]
  },
  {
   "cell_type": "markdown",
   "id": "ac36b836",
   "metadata": {},
   "source": [
    "### Prueba de referencia con Regresión lineal"
   ]
  },
  {
   "cell_type": "code",
   "execution_count": 5,
   "id": "17731528",
   "metadata": {},
   "outputs": [
    {
     "name": "stdout",
     "output_type": "stream",
     "text": [
      "Linear Regression, Drop NaN rows\n",
      "RMSE (dropna): 0.23050061380855455\n",
      "RMSE (mean): 0.2644287502163005\n"
     ]
    }
   ],
   "source": [
    "import numpy as np\n",
    "from sklearn.model_selection import train_test_split\n",
    "from sklearn.linear_model import LinearRegression\n",
    "from sklearn.metrics import mean_squared_error\n",
    "\n",
    "# X numéricas (incluye las mapeadas), y target\n",
    "X_num = train_df.select_dtypes(include=[\"number\"]).drop(columns=[\"TARGET\"], errors=\"ignore\")\n",
    "y = train_df[\"TARGET\"]\n",
    "\n",
    "\n",
    "# a) Drop NaN\n",
    "X_drop = X_num.dropna()\n",
    "y_drop = y.loc[X_drop.index]\n",
    "print(\"Linear Regression, Drop NaN rows\")\n",
    "lr = LinearRegression()\n",
    "lr.fit(X_drop, y_drop)\n",
    "rmse_drop = np.sqrt(mean_squared_error(y_drop, lr.predict(X_drop)))\n",
    "print(\"RMSE (dropna):\", rmse_drop)\n",
    "\n",
    "# b) Imputar con media\n",
    "X_mean = X_num.fillna(X_num.mean(numeric_only=True))\n",
    "lr2 = LinearRegression()\n",
    "lr2.fit(X_mean, y)\n",
    "rmse_mean = np.sqrt(mean_squared_error(y, lr2.predict(X_mean)))\n",
    "print(\"RMSE (mean):\", rmse_mean)"
   ]
  },
  {
   "cell_type": "markdown",
   "id": "561fae6a",
   "metadata": {},
   "source": [
    "### Hago One Hot Encoding con las variables categóricas"
   ]
  },
  {
   "cell_type": "code",
   "execution_count": 6,
   "id": "20122cce",
   "metadata": {},
   "outputs": [
    {
     "name": "stdout",
     "output_type": "stream",
     "text": [
      "X_ohe shape: (307511, 260)\n",
      "y shape: (307511,)\n"
     ]
    }
   ],
   "source": [
    "# columnas categóricas restantes\n",
    "cat_cols = train_df.select_dtypes(include=[\"object\"]).columns.tolist()\n",
    "\n",
    "# opcional: quitar IDs antes de generar features\n",
    "id_cols = [\"SK_ID_CURR\"]  # agregá más si hace falta\n",
    "\n",
    "# X con one-hot, y como target\n",
    "X_ohe = pd.get_dummies(\n",
    "    train_df.drop(columns=[\"TARGET\"] + id_cols, errors=\"ignore\"),\n",
    "    columns=cat_cols,\n",
    "    dummy_na=True,   # conserva la categoría \"NaN\" como dummy\n",
    "    dtype=\"int8\"     # compacto en memoria\n",
    ")\n",
    "y = train_df[\"TARGET\"]\n",
    "\n",
    "print(\"X_ohe shape:\", X_ohe.shape)\n",
    "print(\"y shape:\", y.shape)"
   ]
  },
  {
   "cell_type": "markdown",
   "id": "5128508a",
   "metadata": {},
   "source": [
    "Genaramos algunas varibles que entendemos representativas, como el CREDIT_TERM ≈ AMT_CREDIT / AMT_ANNUITY; PAYMENT_RATE = AMT_ANNUITY / AMT_CREDIT; CAR_AGE_TO_AGE = OWN_CAR_AGE / AGE_YEARS"
   ]
  },
  {
   "cell_type": "code",
   "execution_count": 7,
   "id": "0c949367",
   "metadata": {},
   "outputs": [],
   "source": [
    "import numpy as np\n",
    "\n",
    "# CREDIT_TERM ≈ meses del crédito\n",
    "train_df[\"CREDIT_TERM\"] = train_df[\"AMT_CREDIT\"].div(\n",
    "    train_df[\"AMT_ANNUITY\"].replace(0, np.nan)\n",
    ")\n",
    "\n",
    "# PAYMENT_RATE = cuota / crédito\n",
    "train_df[\"PAYMENT_RATE\"] = train_df[\"AMT_ANNUITY\"].div(\n",
    "    train_df[\"AMT_CREDIT\"].replace(0, np.nan)\n",
    ")\n",
    "\n",
    "# ANNUITY_INCOME_PCT = cuota / ingreso total\n",
    "train_df[\"ANNUITY_INCOME_PCT\"] = train_df[\"AMT_ANNUITY\"].div(\n",
    "    train_df[\"AMT_INCOME_TOTAL\"].replace(0, np.nan))\n",
    "\n",
    "    # Asegurar columnas base\n",
    "if \"AGE_YEARS\" not in train_df and \"DAYS_BIRTH\" in train_df:\n",
    "    train_df[\"AGE_YEARS\"] = (-train_df[\"DAYS_BIRTH\"] / 365).clip(lower=0)\n",
    "\n",
    "if \"EMP_YEARS\" not in train_df and \"DAYS_EMPLOYED\" in train_df:\n",
    "    train_df[\"EMP_YEARS\"] = (-train_df[\"DAYS_EMPLOYED\"] / 365).clip(lower=0, upper=60)\n",
    "\n",
    "# Relación entre años de empleo y edad\n",
    "train_df[\"EMP_TO_AGE\"] = train_df[\"EMP_YEARS\"].div(\n",
    "    train_df[\"AGE_YEARS\"].replace(0, np.nan)\n",
    ")\n",
    "\n",
    "# Relación entre edad del auto y edad del cliente\n",
    "train_df[\"CAR_AGE_TO_AGE\"] = (\n",
    "    train_df[\"OWN_CAR_AGE\"].div(train_df[\"AGE_YEARS\"].replace(0, np.nan))\n",
    "    if \"OWN_CAR_AGE\" in train_df else np.nan\n",
    ")"
   ]
  }
 ],
 "metadata": {
  "kernelspec": {
   "display_name": "Python 3",
   "language": "python",
   "name": "python3"
  },
  "language_info": {
   "codemirror_mode": {
    "name": "ipython",
    "version": 3
   },
   "file_extension": ".py",
   "mimetype": "text/x-python",
   "name": "python",
   "nbconvert_exporter": "python",
   "pygments_lexer": "ipython3",
   "version": "3.12.2"
  }
 },
 "nbformat": 4,
 "nbformat_minor": 5
}
